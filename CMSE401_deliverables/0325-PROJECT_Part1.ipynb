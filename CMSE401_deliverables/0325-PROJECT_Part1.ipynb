{
 "cells": [
  {
   "cell_type": "markdown",
   "metadata": {},
   "source": [
    "[Link to this document's Jupyter Notebook](./0325-PROJECT_Part1.ipynb)"
   ]
  },
  {
   "cell_type": "markdown",
   "metadata": {},
   "source": [
    "# Project Part 1: Software Exploration\n",
    "\n",
    "\n",
    "In this milestone you will provide an example folder in your git repository with installation instructions and example files in a compact format which will allow your instructor and your peers to run the software you you choose to evaluate in your project proposal.   There are four basic things you need to provide with this milestone project:\n",
    "\n",
    "1. [Software Abstract](#Software-Abstract)\n",
    "2. [Installation](#Installation)\n",
    "3. [Example Code](#Example-Code)\n",
    "4. [Submission script](#Submission-script)\n",
    "5. [References](#References)\n",
    "\n"
   ]
  },
  {
   "cell_type": "markdown",
   "metadata": {},
   "source": [
    "\n",
    "\n",
    "---\n",
    "<a name=Software-Abstract></a>\n",
    "# 1. Software Abstract\n",
    "\n",
    "In the directory `CMSE401_deliverables`, I added all the class-specific files, as well as a `README` for the class portion of the project.\n",
    "\n",
    "`pyro` is a PDE solver constructed in Python, so it most likely falls under the category of \"programming tool\". PDE's appear in a variety of physics fields, including waves, diffusions, transports, and quantum mechanics. `pyro` has a number of PDE solvers at its disposal, making it a tool that can assist in solving and displaying several physics problems."
   ]
  },
  {
   "cell_type": "markdown",
   "metadata": {},
   "source": [
    "\n",
    "\n",
    "---\n",
    "<a name=Installation></a>\n",
    "# 2. Installation\n",
    "\n",
    "`pyro` is a GitHub repository, primarily built and maintained by Michael Zingale. For the main `pyro2` repository, you can install it on the HPCC using\n",
    "\n",
    "```bash\n",
    "git clone https://github.com/python-hydro/pyro2 <target_directory_name>\n",
    "```\n",
    "\n",
    "For my version (forked from the main repository), you can use\n",
    "\n",
    "```bash\n",
    "git clone https://github.com/priesbr1/CMSE401_pyro2_project <target_directory_name>\n",
    "```\n",
    "\n",
    "Once in the main directory, run the command\n",
    "\n",
    "```bash\n",
    "./pyro.py advection smooth inputs.smooth\n",
    "```\n",
    "\n",
    "With the proper screen resources, this should display a pulse moving diagonally through the image. This serves as a quick unit test to ensure that all the necessary packages/libraries (`numpy`, `numba`, `matplotlib`, `h5py`) are installed."
   ]
  },
  {
   "cell_type": "markdown",
   "metadata": {},
   "source": [
    "\n",
    "\n",
    "\n",
    "---\n",
    "<a name=Example-Code></a>\n",
    "# 3. Example Code\n",
    "\n",
    "All of the main files are located in (and can be run from) the main directory. When running from the command line, you need three basic inputs:\n",
    "\n",
    "```bash\n",
    "./pyro.py <solver> <problem_type> <problem_input>\n",
    "```\n",
    "\n",
    "Here, `solver` is one of the solvers that pyro supports. Each solver has a folder available in the main directory (e.g. `advection`, `compressible`, `diffusion`, etc.). The availability of `problem_type` and `problem_input` will depend on the solver, but the options for each can be found in the solver's `problems` subdirectory.\n",
    "\n",
    "As an alternative, `pyro` can also be run using the `Pyro` class in a Python script. `examples.ipynb` in the `examples` directory gives a walkthrough for how this works."
   ]
  },
  {
   "cell_type": "markdown",
   "metadata": {},
   "source": [
    "\n",
    "\n",
    "---\n",
    "<a name=Submission-script></a>\n",
    "# 4. Submission script\n",
    "\n",
    "To run the submisson script, run `pyro_advection_smooth.sb` from the `CMSE401_deliverables` directory. This will submit the test case (see **Installation**) as a job to the HPCC. All of the output will be located in the `CMSE401_deliverables` directory.\n",
    "\n",
    "The contents of `pyro_advection_smooth.sb`:\n",
    "\n",
    "```bash\n",
    "#!/bin/bash\n",
    "\n",
    "#SBATCH -N 1\n",
    "#SBATCH -c 1\n",
    "#SBATCH --mem=5GB\n",
    "#SBATCH --time=00:10:00\n",
    "\n",
    "cd ${SLURM_SUBMIT_DIR}  # CMSE_deliverables\n",
    "\n",
    "../pyro.py advection smooth inputs.smooth vis.dovis=0  # no visualization -- doesn't make sense for batch job\n",
    "\n",
    "scontrol show job $SLURM_JOB_ID\n",
    "```"
   ]
  },
  {
   "cell_type": "markdown",
   "metadata": {},
   "source": [
    "---\n",
    "<a name=References></a>\n",
    "# 5. References\n",
    "\n",
    "* Repositories:\n",
    "  * Main `pyro` repo: https://github.com/python-hydro/pyro2\n",
    "  * Project repo: https://github.com/priesbr1/CMSE401_pyro2_project\n",
    "\n",
    "* Documentation:\n",
    "  * `pyro` documentation: https://pyro2.readthedocs.io/en/latest/intro.html\n",
    "  * `pyro` main README: https://github.com/python-hydro/pyro2/blob/main/README.md\n",
    "\n",
    "* Usage:\n",
    "   * `pyro` setup/testing: https://pyro2.readthedocs.io/en/latest/installation.html\n",
    "   * Running `pyro`: https://pyro2.readthedocs.io/en/latest/running.html"
   ]
  },
  {
   "cell_type": "markdown",
   "metadata": {},
   "source": [
    "-----\n",
    "### &#9989;  Congratulations, you are done!\n",
    "\n",
    "Now, you just need to submit this report by adding files to your git repository and pushing those files to the central repository.  You instructor should already have your git repository and be able to pull in your changes. "
   ]
  },
  {
   "cell_type": "markdown",
   "metadata": {},
   "source": [
    "Written by Dr. Dirk Colbry, Michigan State University\n",
    "<a rel=\"license\" href=\"http://creativecommons.org/licenses/by-nc/4.0/\"><img alt=\"Creative Commons License\" style=\"border-width:0\" src=\"https://i.creativecommons.org/l/by-nc/4.0/88x31.png\" /></a><br />This work is licensed under a <a rel=\"license\" href=\"http://creativecommons.org/licenses/by-nc/4.0/\">Creative Commons Attribution-NonCommercial 4.0 International License</a>."
   ]
  },
  {
   "cell_type": "markdown",
   "metadata": {},
   "source": [
    "----"
   ]
  }
 ],
 "metadata": {
  "anaconda-cloud": {},
  "kernelspec": {
   "display_name": "Python 3",
   "language": "python",
   "name": "python3"
  },
  "language_info": {
   "codemirror_mode": {
    "name": "ipython",
    "version": 3
   },
   "file_extension": ".py",
   "mimetype": "text/x-python",
   "name": "python",
   "nbconvert_exporter": "python",
   "pygments_lexer": "ipython3",
   "version": "3.8.8"
  }
 },
 "nbformat": 4,
 "nbformat_minor": 1
}
